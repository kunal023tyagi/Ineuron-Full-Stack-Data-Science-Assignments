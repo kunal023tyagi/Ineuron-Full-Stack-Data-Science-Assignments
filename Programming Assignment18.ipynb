{
  "metadata": {
    "kernelspec": {
      "display_name": "Pyolite",
      "language": "python",
      "name": "python"
    },
    "language_info": {
      "codemirror_mode": {
        "name": "python",
        "version": 3
      },
      "file_extension": ".py",
      "mimetype": "text/x-python",
      "name": "python",
      "nbconvert_exporter": "python",
      "pygments_lexer": "ipython3",
      "version": "3.8"
    }
  },
  "nbformat_minor": 5,
  "nbformat": 4,
  "cells": [
    {
      "cell_type": "code",
      "source": "def filter_list(list):\n    out_string = []\n    for ele in list:\n        if type(ele) == int and ele >= 0:\n            out_string.append(ele)\n    return out_string\n            \nprint(f'➞ {filter_list([1, 2, \"a\", \"b\"])}')\nprint(f'➞ {filter_list([1, \"a\", \"b\", 0, 15])}')\nprint(f'➞ {filter_list([1, 2, \"aasf\", \"1\", \"123\", 123])}')",
      "metadata": {
        "trusted": true
      },
      "execution_count": 1,
      "outputs": [
        {
          "name": "stdout",
          "text": "➞ [1, 2]\n➞ [1, 0, 15]\n➞ [1, 2, 123]\n",
          "output_type": "stream"
        }
      ],
      "id": "6bb18ac2-5e79-4116-a4be-cba64e7b86ae"
    },
    {
      "cell_type": "code",
      "source": "def reverse(in_string):\n    print(f'{in_string} ➞ {in_string[::-1].swapcase()}')\n    \nreverse('Hello World')\nreverse(\"ReVeRsE\")\nreverse(\"Radar\")",
      "metadata": {
        "trusted": true
      },
      "execution_count": 2,
      "outputs": [
        {
          "name": "stdout",
          "text": "Hello World ➞ DLROw OLLEh\nReVeRsE ➞ eSrEvEr\nRadar ➞ RADAr\n",
          "output_type": "stream"
        }
      ],
      "id": "74cf3f5a-86f8-45ed-8e3f-77757a87fe69"
    },
    {
      "cell_type": "code",
      "source": "first, *middle, last = [1,2,3,4,5,6]\nprint(f'first ➞ {first}')\nprint(f'middle ➞ {middle}')\nprint(f'last ➞ {last}')",
      "metadata": {
        "trusted": true
      },
      "execution_count": 3,
      "outputs": [
        {
          "name": "stdout",
          "text": "first ➞ 1\nmiddle ➞ [2, 3, 4, 5]\nlast ➞ 6\n",
          "output_type": "stream"
        }
      ],
      "id": "d93ae72e-a34c-4e45-8586-d65a5547fbd0"
    },
    {
      "cell_type": "code",
      "source": "def factorial(n):\n    if n==0:\n        return 1\n    return n * factorial(n-1)\n\nprint(f'factorial(5) ➞ {factorial(5)}')\nprint(f'factorial(3) ➞ {factorial(3)}')\nprint(f'factorial(1) ➞ {factorial(1)}')\nprint(f'factorial(0) ➞ {factorial(0)}')\n",
      "metadata": {
        "trusted": true
      },
      "execution_count": 4,
      "outputs": [
        {
          "name": "stdout",
          "text": "factorial(5) ➞ 120\nfactorial(3) ➞ 6\nfactorial(1) ➞ 1\nfactorial(0) ➞ 1\n",
          "output_type": "stream"
        }
      ],
      "id": "a2a09558-d4bd-4058-9a7d-73e266219de1"
    },
    {
      "cell_type": "code",
      "source": "def move_to_end(list,num):\n    first_end = []\n    second_end = []\n    for ele in list:\n        if ele == num:\n            second_end.append(ele)\n        else:\n            first_end.append(ele)\n    first_end.extend(second_end)\n    return first_end\n    \nprint(f'move_to_end([1, 3, 2, 4, 4, 1], 1) ➞ {move_to_end([1, 3, 2, 4, 4, 1], 1)}')\nprint(f'move_to_end([7, 8, 9, 1, 2, 3, 4], 9) ➞ {move_to_end([7, 8, 9, 1, 2, 3, 4], 9)}')\nprint(f'move_to_end([\"a\", \"a\", \"a\", \"b\"], \"a\") ➞ {move_to_end([\"a\", \"a\", \"a\", \"b\"], \"a\")}')",
      "metadata": {
        "trusted": true
      },
      "execution_count": 5,
      "outputs": [
        {
          "name": "stdout",
          "text": "move_to_end([1, 3, 2, 4, 4, 1], 1) ➞ [3, 2, 4, 4, 1, 1]\nmove_to_end([7, 8, 9, 1, 2, 3, 4], 9) ➞ [7, 8, 1, 2, 3, 4, 9]\nmove_to_end([\"a\", \"a\", \"a\", \"b\"], \"a\") ➞ ['b', 'a', 'a', 'a']\n",
          "output_type": "stream"
        }
      ],
      "id": "db6e2472-2a43-49cb-9ccd-4d018bf00c71"
    }
  ]
}