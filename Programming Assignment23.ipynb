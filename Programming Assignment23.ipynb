{
  "metadata": {
    "kernelspec": {
      "display_name": "Pyolite",
      "language": "python",
      "name": "python"
    },
    "language_info": {
      "codemirror_mode": {
        "name": "python",
        "version": 3
      },
      "file_extension": ".py",
      "mimetype": "text/x-python",
      "name": "python",
      "nbconvert_exporter": "python",
      "pygments_lexer": "ipython3",
      "version": "3.8"
    }
  },
  "nbformat_minor": 5,
  "nbformat": 4,
  "cells": [
    {
      "cell_type": "code",
      "source": "def is_symmetrical(in_num):\n    if str(in_num) == str(in_num)[::-1]:\n        print(f'{in_num} ➞ {True}')\n    else:\n        print(f'{in_num} ➞ {False}')\n\nis_symmetrical(7227)\nis_symmetrical(12567)\nis_symmetrical(44444444)\nis_symmetrical(9939)\nis_symmetrical(1112111)",
      "metadata": {
        "trusted": true
      },
      "execution_count": 26,
      "outputs": [
        {
          "name": "stdout",
          "text": "7227 ➞ True\n12567 ➞ False\n44444444 ➞ True\n9939 ➞ False\n1112111 ➞ True\n",
          "output_type": "stream"
        }
      ],
      "id": "b5c90331-454d-47d9-a2c2-bae08edfa99e"
    },
    {
      "cell_type": "code",
      "source": "def multiply_nums(in_string):\n    out_string = in_string.replace(' ','').split(',')\n    out_num = 1\n    for ele in out_string:\n        out_num *= int(ele)\n    print(f'{in_string} ➞ {out_num}')\n    \nmultiply_nums(\"2, 3\")\nmultiply_nums(\"1, 2, 3, 4\")\nmultiply_nums(\"54, 75, 453, 0\")\nmultiply_nums(\"10, -2\")\n",
      "metadata": {
        "trusted": true
      },
      "execution_count": 27,
      "outputs": [
        {
          "name": "stdout",
          "text": "2, 3 ➞ 6\n1, 2, 3, 4 ➞ 24\n54, 75, 453, 0 ➞ 0\n10, -2 ➞ -20\n",
          "output_type": "stream"
        }
      ],
      "id": "381cf349-bfd3-4661-881b-e4fd7320e156"
    },
    {
      "cell_type": "code",
      "source": "def square_digits(in_num):\n    in_list = [str(int(ele)**2) for ele in str(in_num)]\n    out_list = ''.join(in_list)\n    print(f'{in_num} ➞ {int(out_list)}')\n\nsquare_digits(9119)\nsquare_digits(2483)\nsquare_digits(3212)",
      "metadata": {
        "trusted": true
      },
      "execution_count": 28,
      "outputs": [
        {
          "name": "stdout",
          "text": "9119 ➞ 811181\n2483 ➞ 416649\n3212 ➞ 9414\n",
          "output_type": "stream"
        }
      ],
      "id": "6dae792e-618a-40a5-a5d8-a9eabbab1919"
    },
    {
      "cell_type": "code",
      "source": "def setify(in_list):\n    out_list = sorted(set(in_list))\n    print(f'{in_list} ➞ {out_list}')\n    \nsetify([1, 3, 3, 5, 5]) \nsetify([4, 4, 4, 4])\nsetify([5, 7, 8, 9, 10, 15])\nsetify([3, 3, 3, 2, 1])\n",
      "metadata": {
        "trusted": true
      },
      "execution_count": 29,
      "outputs": [
        {
          "name": "stdout",
          "text": "[1, 3, 3, 5, 5] ➞ [1, 3, 5]\n[4, 4, 4, 4] ➞ [4]\n[5, 7, 8, 9, 10, 15] ➞ [5, 7, 8, 9, 10, 15]\n[3, 3, 3, 2, 1] ➞ [1, 2, 3]\n",
          "output_type": "stream"
        }
      ],
      "id": "8f8de0a4-ac40-4477-a400-d501c0d08415"
    },
    {
      "cell_type": "code",
      "source": "def mean(in_num):\n    in_list = [int(ele) for ele in str(in_num)]\n    out_num = sum(in_list)/len(str(in_num))\n    print(f'Mean of {in_num}  ➞ {out_num:.0f}')\n    \nmean(42)\nmean(12345)\nmean(666)\n",
      "metadata": {
        "trusted": true
      },
      "execution_count": 30,
      "outputs": [
        {
          "name": "stdout",
          "text": "Mean of 42  ➞ 3\nMean of 12345  ➞ 3\nMean of 666  ➞ 6\n",
          "output_type": "stream"
        }
      ],
      "id": "3b86f8c1-8676-41f1-ae6d-f71546a1fdb0"
    }
  ]
}