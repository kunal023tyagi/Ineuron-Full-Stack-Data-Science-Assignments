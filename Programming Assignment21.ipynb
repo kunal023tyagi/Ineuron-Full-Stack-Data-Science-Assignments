{
  "metadata": {
    "kernelspec": {
      "display_name": "Pyolite",
      "language": "python",
      "name": "python"
    },
    "language_info": {
      "codemirror_mode": {
        "name": "python",
        "version": 3
      },
      "file_extension": ".py",
      "mimetype": "text/x-python",
      "name": "python",
      "nbconvert_exporter": "python",
      "pygments_lexer": "ipython3",
      "version": "3.8"
    }
  },
  "nbformat_minor": 5,
  "nbformat": 4,
  "cells": [
    {
      "cell_type": "code",
      "source": "def next_in_line(in_list,in_num):\n    if len(in_list) > 1:\n        in_list.append(in_num)\n        in_list.remove(in_list[0])\n        print(f'Output ➞ {in_list}')\n    else:\n        print('No list has been selected')\n\nnext_in_line([5, 6, 7, 8, 9], 1) \nnext_in_line([7, 6, 3, 23, 17], 10)\nnext_in_line([1, 10, 20, 42 ], 6)\nnext_in_line([], 6)",
      "metadata": {
        "trusted": true
      },
      "execution_count": 16,
      "outputs": [
        {
          "name": "stdout",
          "text": "Output ➞ [6, 7, 8, 9, 1]\nOutput ➞ [6, 3, 23, 17, 10]\nOutput ➞ [10, 20, 42, 6]\nNo list has been selected\n",
          "output_type": "stream"
        }
      ],
      "id": "1a36bbfc-18f5-4a99-a75f-c9b50d183bad"
    },
    {
      "cell_type": "code",
      "source": "def get_budgets(in_dict):\n    sum = 0\n    for ele in in_dict:\n        sum += ele[\"budget\"]\n    print(f'Output ➞ {sum}')\n    \nget_budgets([\n{ \"name\": \"John\", \"age\": 21, \"budget\": 23000 },\n{ \"name\": \"Steve\", \"age\": 32, \"budget\": 40000 },\n{ \"name\": \"Martin\", \"age\": 16, \"budget\": 2700 }\n])\n\nget_budgets([\n{ \"name\": \"John\", \"age\": 21, \"budget\": 29000 },\n{ \"name\": \"Steve\", \"age\": 32, \"budget\": 32000 },\n{ \"name\": \"Martin\", \"age\": 16, \"budget\": 1600 }\n])",
      "metadata": {
        "trusted": true
      },
      "execution_count": 17,
      "outputs": [
        {
          "name": "stdout",
          "text": "Output ➞ 65700\nOutput ➞ 62600\n",
          "output_type": "stream"
        }
      ],
      "id": "f6bbaec9-9b09-42d4-95b9-a99807511109"
    },
    {
      "cell_type": "code",
      "source": "def alphabet_soup(in_string):\n    out_string = ''.join(sorted(in_string))\n    print(f'{in_string} ➞ {out_string}')\n\nalphabet_soup(\"hello\")\nalphabet_soup(\"edabit\")\nalphabet_soup(\"hacker\")\nalphabet_soup(\"geek\")\nalphabet_soup(\"javascript\")",
      "metadata": {
        "trusted": true
      },
      "execution_count": 18,
      "outputs": [
        {
          "name": "stdout",
          "text": "hello ➞ ehllo\nedabit ➞ abdeit\nhacker ➞ acehkr\ngeek ➞ eegk\njavascript ➞ aacijprstv\n",
          "output_type": "stream"
        }
      ],
      "id": "bd12bfef-95d2-4d04-9c0f-5730a329f70f"
    },
    {
      "cell_type": "code",
      "source": "def compound_interest(principal,years,roi,cp):\n    ci = principal*(1+(roi/cp))**(cp*years)\n    print(f'Output ➞ {ci:.2f}')\n\ncompound_interest(100, 1, 0.05, 1)\ncompound_interest(3500, 15, 0.1, 4)\ncompound_interest(100000, 20, 0.15, 365)\n",
      "metadata": {
        "trusted": true
      },
      "execution_count": 19,
      "outputs": [
        {
          "name": "stdout",
          "text": "Output ➞ 105.00\nOutput ➞ 15399.26\nOutput ➞ 2007316.26\n",
          "output_type": "stream"
        }
      ],
      "id": "97bcfb3c-0285-4a59-b767-1effeec1c05d"
    },
    {
      "cell_type": "code",
      "source": "def return_only_integer(in_list):\n    out_list = []\n    for ele in in_list:\n        if type(ele) == int:\n            out_list.append(ele)\n    print(f'{in_list} ➞ {out_list}')\n    \nreturn_only_integer([9, 2, \"space\", \"car\", \"lion\", 16])\nreturn_only_integer([\"hello\", 81, \"basketball\", 123, \"fox\"])\nreturn_only_integer([10, \"121\", 56, 20, \"car\", 3, \"lion\"]) \nreturn_only_integer([\"String\", True, 3.3, 1])",
      "metadata": {
        "trusted": true
      },
      "execution_count": 20,
      "outputs": [
        {
          "name": "stdout",
          "text": "[9, 2, 'space', 'car', 'lion', 16] ➞ [9, 2, 16]\n['hello', 81, 'basketball', 123, 'fox'] ➞ [81, 123]\n[10, '121', 56, 20, 'car', 3, 'lion'] ➞ [10, 56, 20, 3]\n['String', True, 3.3, 1] ➞ [1]\n",
          "output_type": "stream"
        }
      ],
      "id": "683cd195-2fba-450a-a150-d5702b43bf65"
    }
  ]
}