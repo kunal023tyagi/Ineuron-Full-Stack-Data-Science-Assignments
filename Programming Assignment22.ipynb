{
  "metadata": {
    "kernelspec": {
      "display_name": "Pyolite",
      "language": "python",
      "name": "python"
    },
    "language_info": {
      "codemirror_mode": {
        "name": "python",
        "version": 3
      },
      "file_extension": ".py",
      "mimetype": "text/x-python",
      "name": "python",
      "nbconvert_exporter": "python",
      "pygments_lexer": "ipython3",
      "version": "3.8"
    }
  },
  "nbformat_minor": 5,
  "nbformat": 4,
  "cells": [
    {
      "cell_type": "code",
      "source": "def list_operation(start,end,divisor):\n    out_list = []\n    for ele in range(start,end+1):\n        if ele%divisor == 0:\n            out_list.append(ele)\n    print(f'Output: ➞ {out_list}')\n\nlist_operation(1, 10, 3)\nlist_operation(7, 9, 2)\nlist_operation(15, 20, 7)",
      "metadata": {
        "trusted": true
      },
      "execution_count": 21,
      "outputs": [
        {
          "name": "stdout",
          "text": "Output: ➞ [3, 6, 9]\nOutput: ➞ [8]\nOutput: ➞ []\n",
          "output_type": "stream"
        }
      ],
      "id": "86db5a68-561a-4a1f-bc6c-24af1d2a94e1"
    },
    {
      "cell_type": "code",
      "source": "def simon_says(in_list_1,in_list_2):\n    if len(in_list_1) == len(in_list_1) and len(in_list_1) >=2 and len(in_list_1) >=2:\n        if(in_list_1[:-1] == in_list_2[1:]):\n            print(f'{in_list_1,in_list_2} ➞ {True}')\n        else:\n            print(f'{in_list_1,in_list_2} ➞ {False}')\n            \nsimon_says([1, 2], [5, 1])\nsimon_says([1, 2], [5, 5])\nsimon_says([1, 2, 3, 4, 5], [0, 1, 2, 3, 4])\nsimon_says([1, 2, 3, 4, 5], [5, 5, 1, 2, 3])",
      "metadata": {
        "trusted": true
      },
      "execution_count": 22,
      "outputs": [
        {
          "name": "stdout",
          "text": "([1, 2], [5, 1]) ➞ True\n([1, 2], [5, 5]) ➞ False\n([1, 2, 3, 4, 5], [0, 1, 2, 3, 4]) ➞ True\n([1, 2, 3, 4, 5], [5, 5, 1, 2, 3]) ➞ False\n",
          "output_type": "stream"
        }
      ],
      "id": "08c4f395-5d87-4b20-930d-e98736c5dc82"
    },
    {
      "cell_type": "code",
      "source": "def society_name(in_list):\n    out_string = []\n    for ele in in_list:\n        out_string.append(ele[0])\n    output = ''.join(sorted(out_string))\n    print(f'{in_list} ➞ {output}')\n\nsociety_name([\"Adam\", \"Sarah\", \"Malcolm\"])\nsociety_name([\"Harry\", \"Newt\", \"Luna\", \"Cho\"])\nsociety_name([\"Phoebe\", \"Chandler\", \"Rachel\", \"Ross\", \"Monica\", \"Joey\"])",
      "metadata": {
        "trusted": true
      },
      "execution_count": 23,
      "outputs": [
        {
          "name": "stdout",
          "text": "['Adam', 'Sarah', 'Malcolm'] ➞ AMS\n['Harry', 'Newt', 'Luna', 'Cho'] ➞ CHLN\n['Phoebe', 'Chandler', 'Rachel', 'Ross', 'Monica', 'Joey'] ➞ CJMPRR\n",
          "output_type": "stream"
        }
      ],
      "id": "cd639f83-8466-41c3-bd4b-d29076721624"
    },
    {
      "cell_type": "code",
      "source": "def is_isogram(in_string):\n    lower_in_string = in_string.lower()\n    if len(lower_in_string) == len(set(lower_in_string)):\n        print(f'{in_string} ➞ {True}')\n    else:\n        print(f'{in_string} ➞ {False}')\n    \nis_isogram(\"Algorism\")\nis_isogram(\"PasSword\")\nis_isogram(\"Consecutive\")",
      "metadata": {
        "trusted": true
      },
      "execution_count": 24,
      "outputs": [
        {
          "name": "stdout",
          "text": "Algorism ➞ True\nPasSword ➞ False\nConsecutive ➞ False\n",
          "output_type": "stream"
        }
      ],
      "id": "be42bb94-05d0-4cf5-814f-94d5ac85a106"
    },
    {
      "cell_type": "code",
      "source": "def is_in_order(in_string):\n    in_string_sorted = ''.join(sorted(in_string))\n    if in_string == in_string_sorted:\n        print(f'{in_string} ➞ {True}')\n    else:\n       print(f'{in_string} ➞ {False}')\n\nis_in_order(\"abc\")\nis_in_order(\"edabit\")\nis_in_order(\"123\")\nis_in_order(\"xyzz\")\n",
      "metadata": {
        "trusted": true
      },
      "execution_count": 25,
      "outputs": [
        {
          "name": "stdout",
          "text": "abc ➞ True\nedabit ➞ False\n123 ➞ True\nxyzz ➞ True\n",
          "output_type": "stream"
        }
      ],
      "id": "6c9aff13-c981-427d-80b5-cdace5fcda24"
    }
  ]
}