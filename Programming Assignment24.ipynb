{
  "metadata": {
    "kernelspec": {
      "display_name": "Pyolite",
      "language": "python",
      "name": "python"
    },
    "language_info": {
      "codemirror_mode": {
        "name": "python",
        "version": 3
      },
      "file_extension": ".py",
      "mimetype": "text/x-python",
      "name": "python",
      "nbconvert_exporter": "python",
      "pygments_lexer": "ipython3",
      "version": "3.8"
    }
  },
  "nbformat_minor": 5,
  "nbformat": 4,
  "cells": [
    {
      "cell_type": "code",
      "source": "def amplify(in_num):\n    out_list = []\n    for ele in range(1,in_num+1):\n        if ele%4 == 0:\n            out_list.append(ele*10)\n        else:\n            out_list.append(ele)\n    print(f'{in_num} ➞ {out_list}')\n            \namplify(4)\namplify(3)\namplify(25)",
      "metadata": {
        "trusted": true
      },
      "execution_count": 41,
      "outputs": [
        {
          "name": "stdout",
          "text": "4 ➞ [1, 2, 3, 40]\n3 ➞ [1, 2, 3]\n25 ➞ [1, 2, 3, 40, 5, 6, 7, 80, 9, 10, 11, 120, 13, 14, 15, 160, 17, 18, 19, 200, 21, 22, 23, 240, 25]\n",
          "output_type": "stream"
        }
      ],
      "id": "84f5f868-3b83-47c1-82e6-c3df6b92c966"
    },
    {
      "cell_type": "code",
      "source": "def unique(in_list):\n    out_num = ''\n    for ele in set(in_list):\n        if in_list.count(ele) == 1:\n            out_num = ele\n    print(f'{in_list} ➞ {out_num}')\n\nunique([3, 3, 3, 7, 3, 3])\nunique([0, 0, 0.77, 0, 0])\nunique([0, 1, 1, 1, 1, 1, 1, 1])",
      "metadata": {
        "trusted": true
      },
      "execution_count": 42,
      "outputs": [
        {
          "name": "stdout",
          "text": "[3, 3, 3, 7, 3, 3] ➞ 7\n[0, 0, 0.77, 0, 0] ➞ 0.77\n[0, 1, 1, 1, 1, 1, 1, 1] ➞ 0\n",
          "output_type": "stream"
        }
      ],
      "id": "dfc550f0-cfb2-4714-bf93-49c30d353897"
    },
    {
      "cell_type": "code",
      "source": "import math\n\nclass Circle:\n    def __init__(self, radius):\n        self.radius = radius\n    def getArea(self):\n        print(f'Radius ➞ {round(math.pi*self.radius*self.radius)}')\n    def getPerimeter(self):\n        print(f'Perimeter ➞ {round(2*math.pi*self.radius)}')\n    \ncircy = Circle(11)\ncircy.getArea()\n\ncircy = Circle(4.44)\ncircy.getPerimeter()\n",
      "metadata": {
        "trusted": true
      },
      "execution_count": 43,
      "outputs": [
        {
          "name": "stdout",
          "text": "Radius ➞ 380\nPerimeter ➞ 28\n",
          "output_type": "stream"
        }
      ],
      "id": "e503f738-7bcc-4ab9-aaa9-42aa50e0b829"
    },
    {
      "cell_type": "code",
      "source": "def sort_by_length(in_list):\n    print(sorted(in_list,key=len))\n\nsort_by_length([\"Google\", \"Apple\", \"Microsoft\"])\nsort_by_length([\"Leonardo\", \"Michelangelo\", \"Raphael\", \"Donatello\"])\nsort_by_length([\"Turing\", \"Einstein\", \"Jung\"])\n",
      "metadata": {
        "trusted": true
      },
      "execution_count": 44,
      "outputs": [
        {
          "name": "stdout",
          "text": "['Apple', 'Google', 'Microsoft']\n['Raphael', 'Leonardo', 'Donatello', 'Michelangelo']\n['Jung', 'Turing', 'Einstein']\n",
          "output_type": "stream"
        }
      ],
      "id": "aafb5333-f4da-40e6-9cbf-a69c0d20837b"
    },
    {
      "cell_type": "code",
      "source": "def is_triplet(a,b,c):\n    if ((a**2+b**2) == (c**2)):\n        print(f'{a,b,c} ➞ {True}')\n    else:\n        print(f'{a,b,c} ➞ {False}')\n        \nis_triplet(3, 4, 5)\nis_triplet(3, 4, 5)\nis_triplet(1, 2, 3)\n",
      "metadata": {
        "trusted": true
      },
      "execution_count": 45,
      "outputs": [
        {
          "name": "stdout",
          "text": "(3, 4, 5) ➞ True\n(3, 4, 5) ➞ True\n(1, 2, 3) ➞ False\n",
          "output_type": "stream"
        }
      ],
      "id": "82ec9edd-1f05-4b88-b2ab-f12ae3a4671a"
    }
  ]
}