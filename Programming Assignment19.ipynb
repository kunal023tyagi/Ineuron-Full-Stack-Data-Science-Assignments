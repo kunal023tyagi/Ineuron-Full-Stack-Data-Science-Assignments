{
  "metadata": {
    "kernelspec": {
      "display_name": "Pyolite",
      "language": "python",
      "name": "python"
    },
    "language_info": {
      "codemirror_mode": {
        "name": "python",
        "version": 3
      },
      "file_extension": ".py",
      "mimetype": "text/x-python",
      "name": "python",
      "nbconvert_exporter": "python",
      "pygments_lexer": "ipython3",
      "version": "3.8"
    }
  },
  "nbformat_minor": 5,
  "nbformat": 4,
  "cells": [
    {
      "cell_type": "code",
      "source": "def double_char(in_string):\n    out_string = ''\n    for ele in in_string:\n        out_string += ele*2\n    return out_string\n\nprint(f'➞ {double_char(\"String\")}')\nprint(f'➞ {double_char(\"Hello World!\")}')\nprint(f'➞ {double_char(\"1234!_\")}')",
      "metadata": {
        "trusted": true
      },
      "execution_count": 6,
      "outputs": [
        {
          "name": "stdout",
          "text": "➞ SSttrriinngg\n➞ HHeelllloo  WWoorrlldd!!\n➞ 11223344!!__\n",
          "output_type": "stream"
        }
      ],
      "id": "d7ad1b54-0186-4188-9b9e-262a8bf0513f"
    },
    {
      "cell_type": "code",
      "source": "def reverse(in_bool):\n    if type(in_bool) == bool:\n        return not in_bool\n    else:\n        return \"Boolean Expected\"\n\nprint(f'reverse(True) ➞ {reverse(True)}')\nprint(f'reverse(False) ➞ {reverse(False)}')\nprint(f'reverse(0) ➞ {reverse(0)}')\nprint(f'reverse(None) ➞ {reverse(None)}')",
      "metadata": {
        "trusted": true
      },
      "execution_count": 7,
      "outputs": [
        {
          "name": "stdout",
          "text": "reverse(True) ➞ False\nreverse(False) ➞ True\nreverse(0) ➞ Boolean Expected\nreverse(None) ➞ Boolean Expected\n",
          "output_type": "stream"
        }
      ],
      "id": "181f0b5c-3796-4f5b-a397-acb61d29de5b"
    },
    {
      "cell_type": "code",
      "source": "def num_layers(in_num):\n    out_num = 0.5\n    for ele in range(in_num):\n        out_num *= 2\n    print(f'Output ➞ {out_num/1000}m')\n    \nnum_layers(1)\nnum_layers(4)\nnum_layers(21)\n",
      "metadata": {
        "trusted": true
      },
      "execution_count": 8,
      "outputs": [
        {
          "name": "stdout",
          "text": "Output ➞ 0.001m\nOutput ➞ 0.008m\nOutput ➞ 1048.576m\n",
          "output_type": "stream"
        }
      ],
      "id": "d4bdc05f-3431-4a23-9bcc-1fdcd4d7aa4f"
    },
    {
      "cell_type": "code",
      "source": "def index_of_caps(in_string):\n    out_string = []\n    for ele in in_string:\n        if ele.isupper():\n            out_string.append(in_string.index(ele))\n    print(f'{in_string} ➞ {out_string}')\n\nindex_of_caps(\"eDaBiT\")\nindex_of_caps(\"eQuINoX\")\nindex_of_caps(\"determine\")\nindex_of_caps(\"STRIKE\")\nindex_of_caps(\"sUn\")",
      "metadata": {
        "trusted": true
      },
      "execution_count": 9,
      "outputs": [
        {
          "name": "stdout",
          "text": "eDaBiT ➞ [1, 3, 5]\neQuINoX ➞ [1, 3, 4, 6]\ndetermine ➞ []\nSTRIKE ➞ [0, 1, 2, 3, 4, 5]\nsUn ➞ [1]\n",
          "output_type": "stream"
        }
      ],
      "id": "676fadd1-b7b9-4072-ba13-239d080c35a1"
    },
    {
      "cell_type": "code",
      "source": "def find_even_nums(in_num):\n    out_list = [i for i in range(1,in_num+1) if i%2 == 0]\n    print(f'Output ➞ {out_list}')\n    \nfind_even_nums(8)\nfind_even_nums(4)\nfind_even_nums(2)",
      "metadata": {
        "trusted": true
      },
      "execution_count": 10,
      "outputs": [
        {
          "name": "stdout",
          "text": "Output ➞ [2, 4, 6, 8]\nOutput ➞ [2, 4]\nOutput ➞ [2]\n",
          "output_type": "stream"
        }
      ],
      "id": "1d9fc1ad-5c0f-4926-b218-75af63aecf01"
    }
  ]
}