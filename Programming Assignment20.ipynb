{
  "metadata": {
    "kernelspec": {
      "display_name": "Pyolite",
      "language": "python",
      "name": "python"
    },
    "language_info": {
      "codemirror_mode": {
        "name": "python",
        "version": 3
      },
      "file_extension": ".py",
      "mimetype": "text/x-python",
      "name": "python",
      "nbconvert_exporter": "python",
      "pygments_lexer": "ipython3",
      "version": "3.8"
    }
  },
  "nbformat_minor": 5,
  "nbformat": 4,
  "cells": [
    {
      "cell_type": "code",
      "source": "def filter_list(in_list):\n    out_list = []\n    for ele in in_list:\n        if type(ele) == int:\n            out_list.append(ele)\n    print(f'Output ➞ {out_list}')\n\nfilter_list([1, 2, 3, \"a\", \"b\", 4])\nfilter_list([\"A\", 0, \"Edabit\", 1729, \"Python\", \"1729\"])\nfilter_list([\"Nothing\", \"here\"])",
      "metadata": {
        "trusted": true
      },
      "execution_count": 11,
      "outputs": [
        {
          "name": "stdout",
          "text": "Output ➞ [1, 2, 3, 4]\nOutput ➞ [0, 1729]\nOutput ➞ []\n",
          "output_type": "stream"
        }
      ],
      "id": "6e199baf-a81b-4880-af10-87a0a383e594"
    },
    {
      "cell_type": "code",
      "source": "def add_indexes(in_list):\n    out_list = []\n    for ele in range(len(in_list)):\n        out_list.append(ele+in_list[ele])\n    print(f'{in_list} ➞ {out_list}')\n        \nadd_indexes([0, 0, 0, 0, 0])\nadd_indexes([1, 2, 3, 4, 5])\nadd_indexes([5, 4, 3, 2, 1])",
      "metadata": {
        "trusted": true
      },
      "execution_count": 12,
      "outputs": [
        {
          "name": "stdout",
          "text": "[0, 0, 0, 0, 0] ➞ [0, 1, 2, 3, 4]\n[1, 2, 3, 4, 5] ➞ [1, 3, 5, 7, 9]\n[5, 4, 3, 2, 1] ➞ [5, 5, 5, 5, 5]\n",
          "output_type": "stream"
        }
      ],
      "id": "320562d5-2d00-4efb-bf4d-db12f6e94ecb"
    },
    {
      "cell_type": "code",
      "source": "import math\n\ndef cube_volume(height, radius):\n    output = ((math.pi)*pow(radius,2))*(height/3)\n    print(f'Output ➞ {output:.2f}')\n\ncube_volume(3,2) \ncube_volume(15,6)    \ncube_volume(18,0)    ",
      "metadata": {
        "trusted": true
      },
      "execution_count": 13,
      "outputs": [
        {
          "name": "stdout",
          "text": "Output ➞ 12.57\nOutput ➞ 565.49\nOutput ➞ 0.00\n",
          "output_type": "stream"
        }
      ],
      "id": "1e5c97f6-28c9-4f97-82bd-f3507114b482"
    },
    {
      "cell_type": "code",
      "source": "def triangle(in_num):\n    print(f'Output ➞ {int((in_num)*((in_num+1)/2))}')\n\ntriangle(1)\ntriangle(6)\ntriangle(215)",
      "metadata": {
        "trusted": true
      },
      "execution_count": 14,
      "outputs": [
        {
          "name": "stdout",
          "text": "Output ➞ 1\nOutput ➞ 21\nOutput ➞ 23220\n",
          "output_type": "stream"
        }
      ],
      "id": "8b80fc2c-f95c-4492-b55c-759bef6b4355"
    },
    {
      "cell_type": "code",
      "source": "def missing_num(in_list):\n    for i in range(1,11):\n        if i not in in_list:\n            print(f'{in_list} ➞ {i}')\n\nmissing_num([1, 2, 3, 4, 6, 7, 8, 9, 10])\nmissing_num([7, 2, 3, 6, 5, 9, 1, 4, 8])\nmissing_num([10, 5, 1, 2, 4, 6, 8, 3, 9])\n",
      "metadata": {
        "trusted": true
      },
      "execution_count": 15,
      "outputs": [
        {
          "name": "stdout",
          "text": "[1, 2, 3, 4, 6, 7, 8, 9, 10] ➞ 5\n[7, 2, 3, 6, 5, 9, 1, 4, 8] ➞ 10\n[10, 5, 1, 2, 4, 6, 8, 3, 9] ➞ 7\n",
          "output_type": "stream"
        }
      ],
      "id": "304cfafa-c88d-4fd4-bbde-7ed76caf3186"
    }
  ]
}