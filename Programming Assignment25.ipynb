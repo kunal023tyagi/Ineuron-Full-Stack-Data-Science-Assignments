{
  "metadata": {
    "kernelspec": {
      "display_name": "Pyolite",
      "language": "python",
      "name": "python"
    },
    "language_info": {
      "codemirror_mode": {
        "name": "python",
        "version": 3
      },
      "file_extension": ".py",
      "mimetype": "text/x-python",
      "name": "python",
      "nbconvert_exporter": "python",
      "pygments_lexer": "ipython3",
      "version": "3.8"
    }
  },
  "nbformat_minor": 5,
  "nbformat": 4,
  "cells": [
    {
      "cell_type": "code",
      "source": "def equal(a,b,c):\n    if a==b==c:\n        print(f'{a,b,c} ➞ {3}')\n    elif a==b or b==c:\n        print(f'{a,b,c} ➞ {2}')\n    else:\n        print(f'{a,b,c} ➞ {0}')\n\nequal(3, 4, 3)\nequal(1, 1, 1)\nequal(3, 4, 1)",
      "metadata": {
        "trusted": true
      },
      "execution_count": 36,
      "outputs": [
        {
          "name": "stdout",
          "text": "(3, 4, 3) ➞ 0\n(1, 1, 1) ➞ 3\n(3, 4, 1) ➞ 0\n",
          "output_type": "stream"
        }
      ],
      "id": "f99da5d1-82be-45e7-b7e1-88462d3717ac"
    },
    {
      "cell_type": "code",
      "source": "def dict_to_list(in_dict):\n    out_list = []\n    for keys,values in in_dict.items():\n        out_list.append((keys,values))\n    print(f'{in_dict} ➞ {out_list}')\n                   \ndict_to_list({\"D\": 1,\"B\": 2,\"C\": 3})\ndict_to_list({\"likes\": 2,\"dislikes\": 3,\"followers\": 10})",
      "metadata": {
        "trusted": true
      },
      "execution_count": 37,
      "outputs": [
        {
          "name": "stdout",
          "text": "{'D': 1, 'B': 2, 'C': 3} ➞ [('D', 1), ('B', 2), ('C', 3)]\n{'likes': 2, 'dislikes': 3, 'followers': 10} ➞ [('likes', 2), ('dislikes', 3), ('followers', 10)]\n",
          "output_type": "stream"
        }
      ],
      "id": "ad720439-e2e4-432b-bd4d-a2cb0cd69759"
    },
    {
      "cell_type": "code",
      "source": "def mapping(in_list):\n    out_dict = {}\n    for ele in in_list:\n        out_dict[ele] = ele.upper()\n    print(f'{in_list} ➞ {out_dict}')\n    \nmapping([\"p\", \"s\"])\nmapping([\"a\", \"b\", \"c\"])\nmapping([\"a\", \"v\", \"y\", \"z\"])\n",
      "metadata": {
        "trusted": true
      },
      "execution_count": 38,
      "outputs": [
        {
          "name": "stdout",
          "text": "['p', 's'] ➞ {'p': 'P', 's': 'S'}\n['a', 'b', 'c'] ➞ {'a': 'A', 'b': 'B', 'c': 'C'}\n['a', 'v', 'y', 'z'] ➞ {'a': 'A', 'v': 'V', 'y': 'Y', 'z': 'Z'}\n",
          "output_type": "stream"
        }
      ],
      "id": "d59ebd19-0afc-4236-adc4-6f27b3b45222"
    },
    {
      "cell_type": "code",
      "source": "def vow_replace(in_string,vow_char):\n    vowels = ['a','e','i','o','u']\n    out_string = ''\n    for ele in in_string:\n        if ele in vowels:\n            out_string += vow_char\n        else:\n            out_string += ele\n    print(f'{in_string} ➞ {out_string}')\n        \nvow_replace(\"apples and bananas\", \"u\")\nvow_replace(\"cheese casserole\", \"o\")\nvow_replace(\"stuffed jalapeno poppers\", \"e\")\n",
      "metadata": {
        "trusted": true
      },
      "execution_count": 39,
      "outputs": [
        {
          "name": "stdout",
          "text": "apples and bananas ➞ upplus und bununus\ncheese casserole ➞ chooso cossorolo\nstuffed jalapeno poppers ➞ steffed jelepene peppers\n",
          "output_type": "stream"
        }
      ],
      "id": "a5d4cb34-5345-4b6a-95f8-8903aead9b79"
    },
    {
      "cell_type": "code",
      "source": "def ascii_capitalize(in_string):\n    out_string = ''\n    for ele in in_string.lower():\n        if (ord(ele)%2 == 0):\n            out_string += ele.upper()\n        else:\n            out_string += ele\n    print(f'{in_string} ➞ {out_string}')\n        \nascii_capitalize(\"to be or not to be!\")\nascii_capitalize(\"THE LITTLE MERMAID\")\nascii_capitalize(\"Oh what a beautiful morning.\")\n",
      "metadata": {
        "trusted": true
      },
      "execution_count": 40,
      "outputs": [
        {
          "name": "stdout",
          "text": "to be or not to be! ➞ To Be oR NoT To Be!\nTHE LITTLE MERMAID ➞ THe LiTTLe meRmaiD\nOh what a beautiful morning. ➞ oH wHaT a BeauTiFuL moRNiNg.\n",
          "output_type": "stream"
        }
      ],
      "id": "02e1cc2f-ae33-4b8d-ae9d-7672b8e93499"
    }
  ]
}